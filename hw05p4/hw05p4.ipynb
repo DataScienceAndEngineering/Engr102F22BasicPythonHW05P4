{
 "cells": [
  {
   "cell_type": "markdown",
   "metadata": {
    "id": "p4QxCcEuziNQ"
   },
   "source": [
    "# Homework 5-Problem 4: Arrays and Tables"
   ]
  },
  {
   "cell_type": "markdown",
   "metadata": {
    "id": "fVVxXXO3ziNW"
   },
   "source": [
    "Please complete this notebook by filling in the cells provided. Before you begin, execute the following cell to load the provided tests. Each time you start your server, you will need to execute this cell again to load the tests."
   ]
  },
  {
   "cell_type": "code",
   "execution_count": 2,
   "metadata": {
    "id": "OdkXxvAqziNX"
   },
   "outputs": [],
   "source": [
    "# Don't change this cell; just run it. \n",
    "\n",
    "import numpy as np\n",
    "import pandas as pd\n",
    "import otter\n",
    "import math\n",
    "grader = otter.Notebook(\"tests\")"
   ]
  },
  {
   "cell_type": "markdown",
   "metadata": {
    "id": "PHKefqILziNa"
   },
   "source": [
    "**Important**: The `ok` tests don't always tell you that your answer is correct. More often, they help catch careless mistakes. It's up to you to ensure that your answer is correct. If you're not sure, ask someone (not for the answer, but for some guidance about your approach)."
   ]
  },
  {
   "cell_type": "markdown",
   "metadata": {
    "id": "HOJxdK5DziNa"
   },
   "source": [
    "Once you're finished, select \"Save and Checkpoint\" in the File menu and then execute the `submit` cell below. The result will contain a link that you can use to check that your assignment has been submitted successfully. If you submit more than once before the deadline, we will only grade your final submission."
   ]
  },
  {
   "cell_type": "markdown",
   "metadata": {
    "id": "BqdxjmN-ziNb"
   },
   "source": [
    "## 1. Studying the Survivors\n"
   ]
  },
  {
   "cell_type": "markdown",
   "metadata": {
    "id": "iplf4hF1ziNc"
   },
   "source": [
    "The Reverend Henry Whitehead was skeptical of John Snow’s conclusion about the Broad Street pump. After the Broad Street cholera epidemic ended, Whitehead set about trying to prove Snow wrong.  (The history of the event is detailed [here](http://www.ncbi.nlm.nih.gov/pmc/articles/PMC1034367/pdf/medhist00183-0026.pdf).)\n",
    "\n",
    "He realized that Snow had focused his analysis almost entirely on those who had died. Whitehead, therefore, investigated the drinking habits of people in the Broad Street area who had not died in the outbreak.\n",
    "\n",
    "What is the main reason it was important to study this group?\n",
    "\n",
    "1) If Whitehead had found that many people had drunk water from the Broad Street pump and not caught cholera, that would have been evidence against Snow's hypothesis.\n",
    "\n",
    "2) Survivors could provide additional information about what else could have caused the cholera, potentially unearthing another cause.\n",
    "\n",
    "3) Through considering the survivors, Whitehead could have identified a cure for cholera."
   ]
  },
  {
   "cell_type": "code",
   "execution_count": null,
   "metadata": {
    "id": "DsAjfVCIziNd"
   },
   "outputs": [],
   "source": [
    "# Set survivor_answer to 1, 2, or 3\n",
    "survivor_answer = ..."
   ]
  },
  {
   "cell_type": "code",
   "execution_count": null,
   "metadata": {
    "id": "qE-LVBemziNe"
   },
   "outputs": [],
   "source": [
    "grader.check('q1_1')"
   ]
  },
  {
   "cell_type": "markdown",
   "metadata": {
    "id": "GuY9Qhn7ziNf"
   },
   "source": [
    "**Note:** Whitehead ended up finding further proof that the Broad Street pump played the central role in spreading the disease to the people who lived near it. Eventually, he became one of Snow’s greatest defenders."
   ]
  },
  {
   "cell_type": "markdown",
   "metadata": {
    "id": "zINd3JmqziNg"
   },
   "source": [
    "## 2. Creating Arrays\n"
   ]
  },
  {
   "cell_type": "markdown",
   "metadata": {
    "id": "4jTESpWWziNg"
   },
   "source": [
    "**Question 1.** Make a **numpy array** (not just a list) called `weird_numbers` containing the following numbers (in the given order):\n",
    "\n",
    "1. -2\n",
    "2. the sine of 1.2\n",
    "3. 3\n",
    "4. 5 to the power of the cosine of 1.2\n",
    "\n",
    "*Hint:* `sin` and `cos` are functions in the `math` module."
   ]
  },
  {
   "cell_type": "code",
   "execution_count": null,
   "metadata": {
    "colab": {
     "base_uri": "https://localhost:8080/"
    },
    "id": "twGU9If5ziNh",
    "outputId": "7b3cba79-39d3-489e-c56e-4bb1e2106631"
   },
   "outputs": [],
   "source": [
    "# Our solution involved one extra line of code before creating\n",
    "# weird_numbers.\n",
    "weird_numbers = ...\n",
    "weird_numbers"
   ]
  },
  {
   "cell_type": "code",
   "execution_count": null,
   "metadata": {
    "id": "GXLoYysVziNh"
   },
   "outputs": [],
   "source": [
    "grader.check('q2_1')"
   ]
  },
  {
   "cell_type": "markdown",
   "metadata": {
    "id": "q5-swv9TziNh"
   },
   "source": [
    "**Question 2.** Make a numpy array called `book_title_words` containing the following three strings: \"Eats\", \"Shoots\", and \"and Leaves\"."
   ]
  },
  {
   "cell_type": "code",
   "execution_count": null,
   "metadata": {
    "colab": {
     "base_uri": "https://localhost:8080/"
    },
    "id": "NW9WGbMjziNi",
    "outputId": "e1afd98a-3561-4e75-dccb-6477b9a4d2eb"
   },
   "outputs": [],
   "source": [
    "book_title_words = ...\n",
    "book_title_words"
   ]
  },
  {
   "cell_type": "code",
   "execution_count": null,
   "metadata": {
    "id": "IgZYgvssziNi"
   },
   "outputs": [],
   "source": [
    "grader.check('q2_2')"
   ]
  },
  {
   "cell_type": "markdown",
   "metadata": {
    "id": "221Uu5JuziNi"
   },
   "source": [
    "Strings have a method called `join`.  `join` takes one argument, an array of strings.  It returns a single string.  Specifically, the value of `a_string.join(an_array)` is a single string that's the [concatenation](https://en.wikipedia.org/wiki/Concatenation) (\"putting together\") of all the strings in `an_array`, **except** `a_string` is inserted in between each string\n",
    "\n",
    "**Question 3.** Use the array `book_title_words` and the method `join` to make two strings:\n",
    "\n",
    "1. \"Eats, Shoots, and Leaves\" (call this one `with_commas`)\n",
    "2. \"Eats Shoots and Leaves\" (call this one `without_commas`)\n",
    "\n",
    "*Hint:* If you're not sure what `join` does, first try just calling, for example, `\"foo\".join(book_title_words)` . Also make sure that the words are not all run together: observe the spaces above."
   ]
  },
  {
   "cell_type": "code",
   "execution_count": null,
   "metadata": {
    "colab": {
     "base_uri": "https://localhost:8080/"
    },
    "id": "KFjYk9kjziNj",
    "outputId": "a9d5724b-cd53-469d-d878-1de947b4ff5a"
   },
   "outputs": [],
   "source": [
    "with_commas = ...\n",
    "without_commas = ...\n",
    "\n",
    "# These lines are provided just to print out your answers.\n",
    "print('with_commas:', with_commas)\n",
    "print('without_commas:', without_commas)"
   ]
  },
  {
   "cell_type": "code",
   "execution_count": null,
   "metadata": {
    "id": "Mr1n9_R-ziNk"
   },
   "outputs": [],
   "source": [
    "grader.check('q2_3')"
   ]
  },
  {
   "cell_type": "markdown",
   "metadata": {
    "id": "oZtCtxfQziNk"
   },
   "source": [
    "## 3. Indexing Arrays\n"
   ]
  },
  {
   "cell_type": "markdown",
   "metadata": {
    "id": "xr_4WArtziNk"
   },
   "source": [
    "These exercises give you practice accessing individual elements of arrays.  In Python (and in many programming languages), elements are accessed by *index*, so the first element is the element at index 0.  "
   ]
  },
  {
   "cell_type": "markdown",
   "metadata": {
    "id": "OTpVrkooziNl"
   },
   "source": [
    "**Question 1.** The cell below creates an pandas series of some numbers.  Set `third_element` to the third element of `some_numbers`. Use indexing not just \"eyeballing it\"."
   ]
  },
  {
   "cell_type": "code",
   "execution_count": null,
   "metadata": {
    "colab": {
     "base_uri": "https://localhost:8080/"
    },
    "id": "RMn6gpOTziNl",
    "outputId": "56a4d6a3-aaf3-4e77-b4ae-be1dec970a90"
   },
   "outputs": [],
   "source": [
    "some_numbers = pd.Series([-1, -3, -6, -10, -15])\n",
    "\n",
    "third_element = ...\n",
    "third_element"
   ]
  },
  {
   "cell_type": "code",
   "execution_count": null,
   "metadata": {
    "id": "viGD7tPgziNl"
   },
   "outputs": [],
   "source": [
    "grader.check('q3_1')"
   ]
  },
  {
   "cell_type": "markdown",
   "metadata": {
    "id": "E8xG9hN6ziNm"
   },
   "source": [
    "**Question 2.** The next cell creates a pandas DataFrame that displays some information about the elements of `some_numbers` and their order.  Run the cell to see the partially-completed table, then fill in the missing information in the cell (the strings that are currently \"???\") to complete the table."
   ]
  },
  {
   "cell_type": "code",
   "execution_count": null,
   "metadata": {
    "id": "be4zDYhFziNm"
   },
   "outputs": [],
   "source": [
    "position = pd.Series([\"first\", \"second\", \"???\", \"???\", \"fifth\"])\n",
    "index = pd.Series([\"???\", \"1\", \"2\", \"???\", \"4\"])\n",
    "elements_of_some_numbers = pd.DataFrame({\n",
    "    \"English name for position\": position,\n",
    "    \"Index\":                     index,\n",
    "    \"Element\":                   some_numbers})\n",
    "elements_of_some_numbers.set_index('Index', inplace=True)\n",
    "elements_of_some_numbers"
   ]
  },
  {
   "cell_type": "code",
   "execution_count": null,
   "metadata": {
    "id": "K6Cu8qW-ziNm"
   },
   "outputs": [],
   "source": [
    "grader.check('q3_2')"
   ]
  },
  {
   "cell_type": "markdown",
   "metadata": {
    "id": "Hn6opmLxziNm"
   },
   "source": [
    "**Question 3.** You'll sometimes want to find the *last* element of an array.  Suppose an array has 142 elements.  What is the index of its last element?"
   ]
  },
  {
   "cell_type": "code",
   "execution_count": null,
   "metadata": {
    "id": "ib5IPjrIziNn"
   },
   "outputs": [],
   "source": [
    "index_of_last_element = 141"
   ]
  },
  {
   "cell_type": "code",
   "execution_count": null,
   "metadata": {
    "id": "rhycwDZVziNn"
   },
   "outputs": [],
   "source": [
    "grader.check('q3_3')"
   ]
  },
  {
   "cell_type": "markdown",
   "metadata": {
    "id": "a7sez2NwziNn"
   },
   "source": [
    "More often, you don't know the number of elements in an array, its *length*.  (For example, it might be a large dataset you found on the Internet.)  The function `len` takes a single argument, an array, and returns the `len`gth of that array (an integer).\n",
    "\n",
    "**Question 4.** The cell below loads an array called `president_birth_years`.  The last element in that array is the most recent birth year of any deceased president in the dataset. Assign that year to `most_recent_birth_year`."
   ]
  },
  {
   "cell_type": "code",
   "execution_count": 3,
   "metadata": {
    "id": "UcmLp1qhziNo"
   },
   "outputs": [],
   "source": [
    "president_birth_years = pd.read_csv(\"https://bit.ly/engr102-president-births\")\n",
    "president_birth_years =  president_birth_years.iloc[:,3:4]\n",
    "most_recent_birth_year = ...\n",
    "most_recent_birth_year"
   ]
  },
  {
   "cell_type": "code",
   "execution_count": null,
   "metadata": {
    "id": "uGi1Pr2rziNp"
   },
   "outputs": [],
   "source": [
    "grader.check('q3_4')"
   ]
  },
  {
   "cell_type": "markdown",
   "metadata": {
    "id": "ASiJO-LsziNp"
   },
   "source": [
    "## 4. Basic Array Arithmetic\n"
   ]
  },
  {
   "cell_type": "markdown",
   "metadata": {
    "id": "PCQFYeQyziNp"
   },
   "source": [
    "**Question 1.** Multiply the numbers 42, 4224, 42422424, and -250 by 157.  For this question, **don't** use arrays."
   ]
  },
  {
   "cell_type": "code",
   "execution_count": null,
   "metadata": {
    "id": "_S7BbsILziNq"
   },
   "outputs": [],
   "source": [
    "first_product = ...\n",
    "second_product = ...\n",
    "third_product = ...\n",
    "fourth_product = ...\n",
    "print(first_product, second_product, third_product, fourth_product)"
   ]
  },
  {
   "cell_type": "code",
   "execution_count": null,
   "metadata": {
    "id": "CBov6md1ziNq"
   },
   "outputs": [],
   "source": [
    "grader.check('q4_1')"
   ]
  },
  {
   "cell_type": "markdown",
   "metadata": {
    "id": "ZzHB7ld4ziNq"
   },
   "source": [
    "**Question 2.** Now, do the same calculation, but using a numpy array called `numbers` containing 42, 4224, 42422424, and -250. Use only a single multiplication (`*`) operator to store the 4 results in a numpy array named `products`."
   ]
  },
  {
   "cell_type": "code",
   "execution_count": null,
   "metadata": {
    "id": "hBPleRHXziNq"
   },
   "outputs": [],
   "source": [
    "numbers = ...\n",
    "products = ...\n",
    "products"
   ]
  },
  {
   "cell_type": "code",
   "execution_count": null,
   "metadata": {
    "id": "NJDIC2SXziNq"
   },
   "outputs": [],
   "source": [
    "grader.check('q4_2')"
   ]
  },
  {
   "cell_type": "markdown",
   "metadata": {
    "id": "3mWhU51wziNr"
   },
   "source": [
    "**Question 3.** Oops, we made a typo!  Instead of 157, we wanted to multiply each number by 1577.  Compute the fixed products in the cell below using array arithmetic.  Notice that your job is really easy if you previously defined an array containing the 4 numbers."
   ]
  },
  {
   "cell_type": "code",
   "execution_count": null,
   "metadata": {
    "id": "y53jdzkcziNr"
   },
   "outputs": [],
   "source": [
    "fixed_products = ...\n",
    "fixed_products"
   ]
  },
  {
   "cell_type": "code",
   "execution_count": null,
   "metadata": {
    "id": "oDLFGbAbziNr"
   },
   "outputs": [],
   "source": [
    "grader.check('q4_3')"
   ]
  },
  {
   "cell_type": "markdown",
   "metadata": {
    "id": "-gFBuJs7ziNr"
   },
   "source": [
    "**Question 4.** We've loaded an array of temperatures in the next cell.  Each number is the highest temperature observed on a day at a climate observation station, mostly from the US.  Since they're from the US government agency [NOAA](noaa.gov), all the temperatures are in Fahrenheit.  Convert them all to Celsius by first subtracting 32 from them, then multiplying the results by $\\frac{5}{9}$. Round each result to the nearest integer using the `np.round` function. Make sure that celsius_max_temperatures is a numpy array and not some other type. Fill in question marks with correct ranges or numbers."
   ]
  },
  {
   "cell_type": "code",
   "execution_count": null,
   "metadata": {
    "id": "T7OclvwuziNr"
   },
   "outputs": [],
   "source": [
    "max_temperatures = pd.read_csv(\"https://bit.ly/engr102-temperatures\")\n",
    "max_temperatures = max_temperatures.iloc[??,??] # for all daily max temperature\n",
    "celsius_max_temperatures = ... # conversion in this line\n",
    "celsius_max_temperatures"
   ]
  },
  {
   "cell_type": "code",
   "execution_count": null,
   "metadata": {
    "id": "mpXXVXOvziNs"
   },
   "outputs": [],
   "source": [
    "grader.check('q4_4')"
   ]
  },
  {
   "cell_type": "markdown",
   "metadata": {
    "id": "JP_zo-qMziNs"
   },
   "source": [
    "**Question 5.** The cell below loads all the *lowest* temperatures from each day (in Fahrenheit).  Compute the size of the daily temperature range for each day.  That is, compute the difference between each daily maximum temperature and the corresponding daily minimum temperature.  **Give your answer in Celsius!** "
   ]
  },
  {
   "cell_type": "code",
   "execution_count": null,
   "metadata": {
    "id": "hMcFU4q6ziNs"
   },
   "outputs": [],
   "source": [
    "min_temperatures = pd.read_csv(\"https://bit.ly/engr102-temperatures\")\n",
    "min_temperatures = min_temperatures.iloc[??,??] #for daily min temperature\n",
    "celsius_temperature_ranges = ... # Remember this is a range: high-low on each day\n",
    "celsius_temperature_ranges"
   ]
  },
  {
   "cell_type": "code",
   "execution_count": null,
   "metadata": {
    "id": "boUeflE9ziNs"
   },
   "outputs": [],
   "source": [
    "grader.check('q4_5')"
   ]
  },
  {
   "cell_type": "markdown",
   "metadata": {
    "id": "T4fz6NbeziNs"
   },
   "source": [
    "## 5. Old Faithful\n"
   ]
  },
  {
   "cell_type": "markdown",
   "metadata": {
    "id": "o1VQYNuAziNt"
   },
   "source": [
    "Old Faithful is a geyser in Yellowstone that erupts every 44 to 125 minutes (according to [Wikipedia](https://en.wikipedia.org/wiki/Old_Faithful)). People are [often told that the geyser erupts every hour](http://yellowstone.net/geysers/old-faithful/), but in fact the waiting time between eruptions is more variable. Let's take a look."
   ]
  },
  {
   "cell_type": "markdown",
   "metadata": {
    "id": "80ZCXE1gziNt"
   },
   "source": [
    "**Question 1.** The first line below assigns `waiting_times` to an array of 272 consecutive waiting times between eruptions, taken from a classic 1938 dataset. Assign the names `shortest`, `longest`, and `average` so that the `print` statement is correct."
   ]
  },
  {
   "cell_type": "code",
   "execution_count": null,
   "metadata": {
    "id": "qleS0M1iziNt"
   },
   "outputs": [],
   "source": [
    "old_faithful_df = pd.read_csv('https://bit.ly/engr102-old-faithful')\n",
    "waiting_times = old_faithful_df.iloc[??,??].values #for 'waiting' column\n",
    "# waiting_times should be a numpy array\n",
    "shortest = ...\n",
    "longest = ...\n",
    "average = ...\n",
    "\n",
    "print(\"Old Faithful erupts every\", shortest, \"to\", longest, \"minutes and every\", average, \"minutes on average.\")"
   ]
  },
  {
   "cell_type": "code",
   "execution_count": null,
   "metadata": {
    "id": "NaDcNasIziN0"
   },
   "outputs": [],
   "source": [
    "grader.check('q5_1')"
   ]
  },
  {
   "cell_type": "markdown",
   "metadata": {
    "id": "xO7yeQ42ziN0"
   },
   "source": [
    "**Question 2.** Assign `biggest_decrease` to the biggest descrease in waiting time between two consecutive eruptions. For example, the third eruption occurred after 74 minutes and the fourth after 62 minutes, so the decrease in waiting time was 74 - 62 = 12 minutes. *Hint*: You'll need an array arithmetic function, meaning you will need to create a new numpy array which is a difference of two array that are indexed appropriately."
   ]
  },
  {
   "cell_type": "code",
   "execution_count": null,
   "metadata": {
    "id": "cOl6QKQMziN0"
   },
   "outputs": [],
   "source": [
    "biggest_decrease = ...\n",
    "biggest_decrease"
   ]
  },
  {
   "cell_type": "code",
   "execution_count": null,
   "metadata": {
    "id": "uRBTh4Z1ziN0"
   },
   "outputs": [],
   "source": [
    "grader.check('q5_2')"
   ]
  },
  {
   "cell_type": "markdown",
   "metadata": {
    "id": "QzpnyHynziN1"
   },
   "source": [
    "**Question 3.** If you expected Old Faithful to erupt every hour, you would expect to wait a total of `60 * k` minutes to see `k` eruptions. Set `difference_from_expected` to an array with 272 elements, where the element at index `i` is the absolute difference between the expected and actual total amount of waiting time to see the first `i+1` eruptions.  *Hint*: You'll need to compare a cumulative sum to a range.\n",
    "\n",
    "For example, since the first three waiting times are 79, 54, and 74, the total waiting time for 3 eruptions is 79 + 54 + 74 = 207. The expected waiting time for 3 eruptions is 60 * 3 = 180. Therefore, `difference_from_expected[2]` should be $|207 - 180| = 27$."
   ]
  },
  {
   "cell_type": "code",
   "execution_count": null,
   "metadata": {
    "id": "IR_zxtqpziN1"
   },
   "outputs": [],
   "source": [
    "num_waiting_times = len(waiting_times)\n",
    "difference_from_expected = np.abs(waiting_times.cumsum()-(60*np.ones(num_waiting_times).cumsum()))\n",
    "difference_from_expected[:10]"
   ]
  },
  {
   "cell_type": "code",
   "execution_count": null,
   "metadata": {
    "id": "84l06P9JziN1"
   },
   "outputs": [],
   "source": [
    "grader.check('q5_3')"
   ]
  },
  {
   "cell_type": "markdown",
   "metadata": {
    "id": "aVh2a4W2ziN1"
   },
   "source": [
    "**Question 4.** If instead you guess that each waiting time will be the same as the previous waiting time, how many minutes would your guess differ from the actual time, averaging over every wait time except the first one.\n",
    "\n",
    "For example, since the first three waiting times are 79, 54, and 74, the average difference between your guess and the actual time for just the second and third eruption would be $\\frac{|79-54|+ |54-74|}{2} = 22.5$."
   ]
  },
  {
   "cell_type": "code",
   "execution_count": null,
   "metadata": {
    "id": "GxOWrlZMziN1"
   },
   "outputs": [],
   "source": [
    "average_error = ...\n",
    "average_error"
   ]
  },
  {
   "cell_type": "code",
   "execution_count": null,
   "metadata": {
    "id": "McWoxf1_ziN2"
   },
   "outputs": [],
   "source": [
    "grader.check('q5_4')"
   ]
  },
  {
   "cell_type": "markdown",
   "metadata": {
    "id": "-QIxfZkKziN3"
   },
   "source": [
    "## 6. DataFrames aka Tables\n"
   ]
  },
  {
   "cell_type": "markdown",
   "metadata": {
    "id": "ZGBVYzcFziN4"
   },
   "source": [
    "**Question 1.** Suppose you have 4 apples, 3 oranges, and 3 pineapples.  (Perhaps you're using Python to solve a high school Algebra problem.)  Create a table that contains this information.  It should have two columns: \"fruit name\" and \"count\".  Give it the name `fruits`.\n",
    "\n",
    "**Note:** Use lower-case and singular words for the name of each fruit, like `\"apple\"`."
   ]
  },
  {
   "cell_type": "code",
   "execution_count": null,
   "metadata": {
    "id": "qvA2pu_yziN4"
   },
   "outputs": [],
   "source": [
    "# Our solution builds a dataframe as a dictionary of lists\n",
    "fruits = pd.DataFrame( {\n",
    "    ...\n",
    "})\n",
    "fruits"
   ]
  },
  {
   "cell_type": "code",
   "execution_count": null,
   "metadata": {
    "id": "vBDQ40h6ziN4"
   },
   "outputs": [],
   "source": [
    "grader.check('q6_1')"
   ]
  },
  {
   "cell_type": "markdown",
   "metadata": {
    "id": "t6RzJJs-ziN4"
   },
   "source": [
    "**Question 2.** The file `inventory.csv` (`https://bit.ly/engr102-inventory`) contains information about the inventory at a fruit stand.  Each row represents the contents of one box of fruit.  Load it as a DataFrame named `inventory`. Make sure it is sorted by \"box ID\" (you may want to use the inplace=True switch to change the data frame `inventory`. Also you should set the index using `inventory.set_index` to be the `'box ID'` column. Again don't forget to use `inplace=True` OR replace inventory with a copy using the `=`."
   ]
  },
  {
   "cell_type": "code",
   "execution_count": null,
   "metadata": {
    "id": "HF18ApEPziN4"
   },
   "outputs": [],
   "source": [
    "inventory = ...\n",
    "inventory... # Sort by box ID\n",
    "inventory... # Set the index to BE box ID\n",
    "inventory"
   ]
  },
  {
   "cell_type": "code",
   "execution_count": null,
   "metadata": {
    "id": "fBGvugazziN5"
   },
   "outputs": [],
   "source": [
    "grader.check('q6_2')"
   ]
  },
  {
   "cell_type": "markdown",
   "metadata": {
    "id": "SwKj_hPSziN5"
   },
   "source": [
    "**Question 3.** Does each box at the fruit stand contain a different fruit? Again, don't just eyeball it. Set it with code."
   ]
  },
  {
   "cell_type": "code",
   "execution_count": null,
   "metadata": {
    "id": "ZAV_PxRMziN5"
   },
   "outputs": [],
   "source": [
    "# Set all_different to \"Yes\" if each box contains a different fruit or to \"No\" if multiple boxes contain the same fruit\n",
    "all_different = ...\n",
    "all_different"
   ]
  },
  {
   "cell_type": "code",
   "execution_count": null,
   "metadata": {
    "id": "5dLYgnjZziN5"
   },
   "outputs": [],
   "source": [
    "grader.check('q6_3')"
   ]
  },
  {
   "cell_type": "markdown",
   "metadata": {
    "id": "pqLW1JNgziN5"
   },
   "source": [
    "**Question 4.** The file `sales.csv` (`https://bit.ly/engr102-sales`) contains the number of fruit sold from each box last Saturday.  It has an extra column called \"price per fruit (\\$)\" that's the price *per item of fruit* for fruit in that box.  The rows are in the same order as the `inventory` table.  Load these data into a table called `sales`. Again, don't forget to set the index to be the `box ID` column."
   ]
  },
  {
   "cell_type": "code",
   "execution_count": null,
   "metadata": {
    "id": "lHZOqD9MziN5"
   },
   "outputs": [],
   "source": [
    "sales = ... #load from file\n",
    "sales ... #set the index to ber box ID\n",
    "sales"
   ]
  },
  {
   "cell_type": "code",
   "execution_count": null,
   "metadata": {
    "id": "vv0LenC_ziN5"
   },
   "outputs": [],
   "source": [
    "grader.check('q6_4')"
   ]
  },
  {
   "cell_type": "markdown",
   "metadata": {
    "id": "ydXPWTfWziN6"
   },
   "source": [
    "**Question 5.** How many fruits did the store sell in total on that day?"
   ]
  },
  {
   "cell_type": "code",
   "execution_count": null,
   "metadata": {
    "id": "jaW2RZGqziN6"
   },
   "outputs": [],
   "source": [
    "total_fruits_sold = ...\n",
    "total_fruits_sold"
   ]
  },
  {
   "cell_type": "code",
   "execution_count": null,
   "metadata": {
    "id": "cXA_VQJvziN6"
   },
   "outputs": [],
   "source": [
    "grader.check('q6_5')"
   ]
  },
  {
   "cell_type": "markdown",
   "metadata": {
    "id": "W-UAzuzKziN6"
   },
   "source": [
    "**Question 6.** What was the store's total revenue (the total price of all fruits sold) on that day?\n",
    "\n",
    "*Hint:* If you're stuck, think first about how you would compute the total revenue from just the grape sales."
   ]
  },
  {
   "cell_type": "code",
   "execution_count": null,
   "metadata": {
    "id": "JXmoCnx8ziN6"
   },
   "outputs": [],
   "source": [
    "total_revenue = ...\n",
    "total_revenue"
   ]
  },
  {
   "cell_type": "code",
   "execution_count": null,
   "metadata": {
    "id": "3Dsdfo6DziN6"
   },
   "outputs": [],
   "source": [
    "grader.check('q6_6')"
   ]
  },
  {
   "cell_type": "markdown",
   "metadata": {
    "id": "u785NTq4ziN7"
   },
   "source": [
    "**Question 7.** Make a new table called `remaining_inventory`.  It should have the same rows and columns as `inventory`, except that the amount of fruit sold from each box should be subtracted from that box's count, so that the \"count\" is the amount of fruit remaining after Saturday. Careful here, not to accidentally change the inventory variable. Also make sure that the indices are in order. Finally as a \"sanity check\" when you print the table, make sure all the counts are positive. You didn't sell more of a fruit than you had to cell. If you see negative numbers you did something wrong."
   ]
  },
  {
   "cell_type": "code",
   "execution_count": null,
   "metadata": {
    "id": "gVm2KZaZziN7"
   },
   "outputs": [],
   "source": [
    "remaining_inventory = ... # one way is to make a COPY of inventory but be careful because if you\n",
    "                          # just create a new name rather than a new dataframe you will overwrite inventory and\n",
    "                          # get wrong answers\n",
    "remaining_inventory['count'] = ...\n",
    "remaining_inventory"
   ]
  },
  {
   "cell_type": "code",
   "execution_count": null,
   "metadata": {
    "id": "eBgJzez4ziN7"
   },
   "outputs": [],
   "source": [
    "grader.check('q6_7')"
   ]
  },
  {
   "cell_type": "code",
   "execution_count": null,
   "metadata": {},
   "outputs": [],
   "source": []
  }
 ],
 "metadata": {
  "colab": {
   "collapsed_sections": [],
   "name": "hw04p3.ipynb",
   "provenance": []
  },
  "kernelspec": {
   "display_name": "Python 3 (ipykernel)",
   "language": "python",
   "name": "python3"
  },
  "language_info": {
   "codemirror_mode": {
    "name": "ipython",
    "version": 3
   },
   "file_extension": ".py",
   "mimetype": "text/x-python",
   "name": "python",
   "nbconvert_exporter": "python",
   "pygments_lexer": "ipython3",
   "version": "3.10.6"
  },
  "nteract": {
   "version": "0.28.0"
  },
  "vscode": {
   "interpreter": {
    "hash": "31adf8a8afb37dd9cea895dc4b8ef6dd0f02393d51a6b20fded9ef7c0569f51a"
   }
  }
 },
 "nbformat": 4,
 "nbformat_minor": 1
}
